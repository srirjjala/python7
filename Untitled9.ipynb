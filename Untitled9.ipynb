{
 "cells": [
  {
   "cell_type": "code",
   "execution_count": 23,
   "id": "4d212240",
   "metadata": {},
   "outputs": [],
   "source": [
    "def prime():\n",
    "    n=int(input(\"enter the value of n\"))\n",
    "    if(n==1):\n",
    "        print(\"it is not prime number\")\n",
    "    for i in range(2,n-1):\n",
    "        if(n%i==0):\n",
    "            print(\"it is not a prime number\")\n",
    "            break\n",
    "    else:\n",
    "        print(\"it is a prime number\")"
   ]
  },
  {
   "cell_type": "code",
   "execution_count": 24,
   "id": "463c43ab",
   "metadata": {},
   "outputs": [
    {
     "name": "stdout",
     "output_type": "stream",
     "text": [
      "enter the value of n3\n",
      "it is a prime number\n"
     ]
    }
   ],
   "source": [
    "prime()"
   ]
  },
  {
   "cell_type": "code",
   "execution_count": null,
   "id": "0f5cedcb",
   "metadata": {},
   "outputs": [],
   "source": [
    "def abc():\n",
    "    a=int(input(\"enter the value of a\"))\n",
    "    b=int(input(\"enter the value of b\"))\n",
    "    c=int(input(\"enter the value of c\"))\n",
    "    l=[]\n",
    "    l.append(a)\n",
    "    l.append(b)\n",
    "    l.append(c)\n",
    "    print(max(l))"
   ]
  },
  {
   "cell_type": "code",
   "execution_count": 28,
   "id": "0ce0f1fb",
   "metadata": {},
   "outputs": [
    {
     "ename": "NameError",
     "evalue": "name 'abc' is not defined",
     "output_type": "error",
     "traceback": [
      "\u001b[1;31m---------------------------------------------------------------------------\u001b[0m",
      "\u001b[1;31mNameError\u001b[0m                                 Traceback (most recent call last)",
      "\u001b[1;32mC:\\Users\\VENKAT~1\\AppData\\Local\\Temp/ipykernel_12716/2676655121.py\u001b[0m in \u001b[0;36m<module>\u001b[1;34m\u001b[0m\n\u001b[1;32m----> 1\u001b[1;33m \u001b[0mabc\u001b[0m\u001b[1;33m(\u001b[0m\u001b[1;33m)\u001b[0m\u001b[1;33m\u001b[0m\u001b[1;33m\u001b[0m\u001b[0m\n\u001b[0m",
      "\u001b[1;31mNameError\u001b[0m: name 'abc' is not defined"
     ]
    }
   ],
   "source": [
    "   abc()"
   ]
  },
  {
   "cell_type": "code",
   "execution_count": 29,
   "id": "06ab1bf3",
   "metadata": {},
   "outputs": [
    {
     "name": "stdout",
     "output_type": "stream",
     "text": [
      "Enter the value of a: 6\n",
      "Enter the value of b: 7\n",
      "Enter the value of c: 8\n",
      "The maximum value is: 8\n"
     ]
    }
   ],
   "source": [
    "def abc():\n",
    "    a = int(input(\"Enter the value of a: \"))\n",
    "    b = int(input(\"Enter the value of b: \"))\n",
    "    c = int(input(\"Enter the value of c: \"))\n",
    "    \n",
    "    l = [a, b, c]\n",
    "    print(\"The maximum value is:\", max(l))\n",
    "abc()\n"
   ]
  },
  {
   "cell_type": "code",
   "execution_count": 30,
   "id": "4b1458da",
   "metadata": {},
   "outputs": [
    {
     "name": "stdout",
     "output_type": "stream",
     "text": [
      "The maximum value is: 7\n"
     ]
    }
   ],
   "source": [
    "def abc(a,b,c):\n",
    "    l = [a, b, c]\n",
    "    print(\"The maximum value is:\", max(l))\n",
    "abc(a=5,b=6,c=7)\n",
    "\n"
   ]
  },
  {
   "cell_type": "code",
   "execution_count": null,
   "id": "decd99da",
   "metadata": {},
   "outputs": [],
   "source": []
  }
 ],
 "metadata": {
  "kernelspec": {
   "display_name": "Python 3 (ipykernel)",
   "language": "python",
   "name": "python3"
  },
  "language_info": {
   "codemirror_mode": {
    "name": "ipython",
    "version": 3
   },
   "file_extension": ".py",
   "mimetype": "text/x-python",
   "name": "python",
   "nbconvert_exporter": "python",
   "pygments_lexer": "ipython3",
   "version": "3.9.7"
  }
 },
 "nbformat": 4,
 "nbformat_minor": 5
}
